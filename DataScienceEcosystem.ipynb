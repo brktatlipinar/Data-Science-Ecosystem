{
 "cells": [
  {
   "cell_type": "markdown",
   "id": "e61e6138-d2fe-400b-bd26-670ce9310ac1",
   "metadata": {},
   "source": [
    "# Data Science Tools and Ecosystem"
   ]
  },
  {
   "cell_type": "markdown",
   "id": "24a257e2-4b36-4adb-9cad-9d207217541b",
   "metadata": {},
   "source": [
    "In this notebook, Data Science Tools and Ecosystem are summarized."
   ]
  },
  {
   "cell_type": "markdown",
   "id": "ba0e0ac2-a1ed-48f5-b874-159a315dc0e5",
   "metadata": {},
   "source": [
    "**Objectives:**\n",
    "- List popular langugages for Data Science\n",
    "- List of commonly used libraries\n",
    "- List of development environments "
   ]
  },
  {
   "cell_type": "markdown",
   "id": "bffaf594-7c2d-40f9-8999-b3c364c5197a",
   "metadata": {},
   "source": [
    "Some of the popular languages that Data Scientists use are:\n",
    "1. Python\n",
    "2. R\n",
    "3. SQL"
   ]
  },
  {
   "cell_type": "markdown",
   "id": "cc1aec31-3430-4f66-91b9-08198f9bcdb3",
   "metadata": {},
   "source": [
    "Some of the commonly used libraries used by Data Scientists include:\n",
    "1. Pandas\n",
    "2. NumPy \n",
    "3. Matplotlib\n",
    "4. Seaborn"
   ]
  },
  {
   "cell_type": "markdown",
   "id": "23489753-df67-440c-8793-014e79a3e1d8",
   "metadata": {},
   "source": [
    "| Data Science Tools |\n",
    "|--------------------|\n",
    "| RStudio |\n",
    "| Jupyter Notebook |\n",
    "| Visual Studio Code |"
   ]
  },
  {
   "cell_type": "code",
   "execution_count": null,
   "id": "c4985f40-0b20-4917-bf2f-04af9d67b64e",
   "metadata": {},
   "outputs": [],
   "source": [
    "### Below are a few examples of evaluating arithmetic expressions in Python."
   ]
  }
 ],
 "metadata": {
  "kernelspec": {
   "display_name": "Python",
   "language": "python",
   "name": "conda-env-python-py"
  },
  "language_info": {
   "codemirror_mode": {
    "name": "ipython",
    "version": 3
   },
   "file_extension": ".py",
   "mimetype": "text/x-python",
   "name": "python",
   "nbconvert_exporter": "python",
   "pygments_lexer": "ipython3",
   "version": "3.7.12"
  }
 },
 "nbformat": 4,
 "nbformat_minor": 5
}
